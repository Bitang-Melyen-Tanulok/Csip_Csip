{
  "nbformat": 4,
  "nbformat_minor": 0,
  "metadata": {
    "colab": {
      "provenance": [],
      "gpuType": "V28",
      "include_colab_link": true
    },
    "kernelspec": {
      "name": "python3",
      "display_name": "Python 3"
    },
    "language_info": {
      "name": "python"
    },
    "accelerator": "TPU"
  },
  "cells": [
    {
      "cell_type": "markdown",
      "metadata": {
        "id": "view-in-github",
        "colab_type": "text"
      },
      "source": [
        "<a href=\"https://colab.research.google.com/github/Bitang-Melyen-Tanulok/Csip_Csip/blob/main/Train_final_sample.ipynb\" target=\"_parent\"><img src=\"https://colab.research.google.com/assets/colab-badge.svg\" alt=\"Open In Colab\"/></a>"
      ]
    },
    {
      "cell_type": "code",
      "execution_count": null,
      "metadata": {
        "colab": {
          "base_uri": "https://localhost:8080/"
        },
        "id": "tQrSXadE4xMi",
        "outputId": "be59d5d8-d7ed-4c48-b907-d2246d762746"
      },
      "outputs": [
        {
          "output_type": "stream",
          "name": "stdout",
          "text": [
            "Mounted at /content/drive\n",
            "Current folder: blrwar1\n",
            "Current folder: grenig1\n",
            "Current folder: junmyn1\n",
            "Current folder: pursun4\n",
            "Current folder: revbul\n",
            "Current folder: barswa\n",
            "Current folder: jerbus2\n",
            "Current folder: insowl1\n",
            "Current folder: lewduc1\n",
            "Current folder: plaflo1\n",
            "Current folder: putbab1\n",
            "Current folder: redspu1\n",
            "Current folder: rewlap1\n",
            "Current folder: rufbab3\n",
            "Current folder: sqtbul1\n",
            "Current folder: vefnut1\n",
            "Current folder: categr\n",
            "Current folder: forwag1\n",
            "Current folder: rerswa1\n",
            "Current folder: rutfly6\n",
            "\n",
            "X shape: (1769, 128, 313, 3)\n",
            "Y shape: (1769,)\n"
          ]
        }
      ],
      "source": [
        "import os\n",
        "import numpy as np\n",
        "import matplotlib.pyplot as plt\n",
        "from tensorflow.keras.preprocessing import image\n",
        "from sklearn.preprocessing import LabelEncoder\n",
        "from tensorflow.keras.utils import to_categorical\n",
        "from PIL import Image\n",
        "from google.colab import drive\n",
        "\n",
        "X = []\n",
        "Y = []\n",
        "drive.mount('/content/drive')\n",
        "path = '/content/drive/MyDrive/DeepLearning'\n",
        "spectrograms_path = os.path.join(path, 'ugyanaz?')  # Adott mappa elérési útvonala\n",
        "folders = os.listdir(spectrograms_path)\n",
        "\n",
        "for folder in folders:\n",
        "    print(f\"Current folder: {folder}\")\n",
        "    folder_path = os.path.join(spectrograms_path, folder)  # Mappa útvonal\n",
        "\n",
        "    # Fájlok bejárása a mappában\n",
        "    files = os.listdir(folder_path)\n",
        "\n",
        "    for file in files:\n",
        "        if file.endswith('.png'):  # Csak PNG fájlokat olvasunk be\n",
        "            file_path = os.path.join(folder_path, file)\n",
        "\n",
        "            # Kép betöltése\n",
        "            img = image.load_img(file_path, color_mode='rgb')\n",
        "            img_array = image.img_to_array(img)  # Kép tömbbé alakítása\n",
        "            X.append(img_array)\n",
        "            Y.append(folder)\n",
        "\n",
        "\n",
        "X = np.array(X)\n",
        "Y = np.array(Y)\n",
        "\n",
        "print(f\"\\nX shape: {X.shape}\")\n",
        "print(f\"Y shape: {Y.shape}\")\n",
        "\n",
        "#shuffle X and Y the same way\n",
        "permutation = np.random.permutation(len(X))\n",
        "X = X[permutation]\n",
        "Y = Y[permutation]\n",
        "\n",
        "test_split = 0.1\n",
        "valid_split = 0.1\n",
        "\n",
        "nb_samples = len(X)\n",
        "valid_start_idx = int(nb_samples*(1-valid_split-test_split))\n",
        "test_start_idx = int(nb_samples*(1-test_split))\n",
        "\n",
        "X_train = X[:valid_start_idx]\n",
        "Y_train = Y[:valid_start_idx]\n",
        "X_valid = X[valid_start_idx:test_start_idx]\n",
        "Y_valid = Y[valid_start_idx:test_start_idx]\n",
        "X_test = X[test_start_idx:]\n",
        "Y_test = Y[test_start_idx:]"
      ]
    },
    {
      "cell_type": "code",
      "source": [
        "from sklearn.preprocessing import LabelEncoder\n",
        "from tensorflow.keras.utils import to_categorical\n",
        "\n",
        "#Since this is a multi-class classification task, I am converting labels to one-hot format:\n",
        "\n",
        "#First, the labels need to be converted into numerical values\n",
        "le = LabelEncoder()\n",
        "Y_train_encoded = le.fit_transform(Y_train)\n",
        "Y_valid_encoded = le.transform(Y_valid)\n",
        "Y_test_encoded = le.transform(Y_test)\n",
        "\n",
        "#Getting number of classes\n",
        "num_classes = len(le.classes_)\n",
        "print(f\"Class number= {num_classes}\")\n",
        "\n",
        "# Converting to one-hot encoding\n",
        "Y_train= to_categorical(Y_train_encoded, num_classes)\n",
        "Y_valid = to_categorical(Y_valid_encoded, num_classes)\n",
        "Y_test = to_categorical(Y_test_encoded, num_classes)"
      ],
      "metadata": {
        "id": "8Wr1YIvJXB2e",
        "colab": {
          "base_uri": "https://localhost:8080/"
        },
        "outputId": "cf0bd6d1-09fd-4421-ddff-028a4c7aed16"
      },
      "execution_count": null,
      "outputs": [
        {
          "output_type": "stream",
          "name": "stdout",
          "text": [
            "Class number= 20\n"
          ]
        }
      ]
    },
    {
      "cell_type": "code",
      "source": [
        "from tensorflow.keras.callbacks import EarlyStopping\n",
        "\n",
        "#Implementing early stopping, since there is no reason for it to learn further when val_loss isn't decreasing\n",
        "early_stopping = EarlyStopping(\n",
        "    monitor='val_loss',\n",
        "    patience=5, #If it doesn't improve for 10 epochs, it concludes\n",
        "    verbose=1,\n",
        "    restore_best_weights=True\n",
        ")"
      ],
      "metadata": {
        "id": "FUAtgZ4iuF9d"
      },
      "execution_count": null,
      "outputs": []
    },
    {
      "cell_type": "code",
      "source": [
        "from tensorflow.keras.callbacks import ModelCheckpoint # Importing the missing ModelCheckpoint class\n",
        "\n",
        "checkpoint_dir = '/content/drive/MyDrive/DeepLearning/checkpoints_sample'\n",
        "os.makedirs(checkpoint_dir, exist_ok=True)\n",
        "\n",
        "checkpoint_train_path = os.path.join(checkpoint_dir, 'model_train_{epoch:02d}_{val_loss:.4f}.keras')\n",
        "checkpoint_finetune_path = os.path.join(checkpoint_dir, 'model_finetune_{epoch:02d}_{val_loss:.4f}.keras')\n",
        "\n",
        "#Saving the latest model at each epoch, so that if colab collapses, we don't have to start from zero\n",
        "checkpoint_train = ModelCheckpoint(\n",
        "    checkpoint_train_path,\n",
        "    monitor='val_loss',\n",
        "    save_best_only=False,\n",
        "    save_weights_only=False,\n",
        "    save_freq='epoch',\n",
        "    verbose=1\n",
        ")\n",
        "\n",
        "checkpoint_finetune = ModelCheckpoint(\n",
        "    checkpoint_finetune_path,\n",
        "    monitor='val_loss',\n",
        "    save_best_only=False,\n",
        "    save_weights_only=False,\n",
        "    save_freq='epoch',\n",
        "    verbose=1\n",
        ")"
      ],
      "metadata": {
        "id": "2ykyRUDhuG5P"
      },
      "execution_count": null,
      "outputs": []
    },
    {
      "cell_type": "code",
      "source": [
        "import re\n",
        "\n",
        "def return_latest_checkpoint_path(checkpoint_dir, fold_prefix):\n",
        "    model_files = os.listdir(checkpoint_dir)\n",
        "    # Filter files that match the fold_prefix\n",
        "    model_files = [f for f in model_files if f.startswith(fold_prefix)]\n",
        "    if not model_files:\n",
        "        print(\"No checkpoint found for fold.\")\n",
        "        return None, 0\n",
        "\n",
        "    # Extract epoch numbers using regex\n",
        "    epoch_numbers = []\n",
        "    for f in model_files:\n",
        "        match = re.search(r'_(\\d+)', f)  # Extract the number after fold prefix and before '_val_loss'\n",
        "        if match:\n",
        "            epoch_numbers.append((int(match.group(1)), f))\n",
        "\n",
        "    # Get the latest file by epoch number\n",
        "    latest_epoch, latest_file = max(epoch_numbers, key=lambda x: x[0])\n",
        "    latest_model_path = os.path.join(checkpoint_dir, latest_file)\n",
        "\n",
        "    return latest_model_path, latest_epoch"
      ],
      "metadata": {
        "id": "ZeMm1FEluNQv"
      },
      "execution_count": null,
      "outputs": []
    },
    {
      "cell_type": "code",
      "source": [
        "!pip install efficientnet"
      ],
      "metadata": {
        "id": "IiGrBwwOuQiO",
        "colab": {
          "base_uri": "https://localhost:8080/"
        },
        "outputId": "be7fb714-0598-49df-c72e-a0cb3e45892b"
      },
      "execution_count": null,
      "outputs": [
        {
          "output_type": "stream",
          "name": "stdout",
          "text": [
            "Collecting efficientnet\n",
            "  Downloading efficientnet-1.1.1-py3-none-any.whl.metadata (6.4 kB)\n",
            "Collecting keras-applications<=1.0.8,>=1.0.7 (from efficientnet)\n",
            "  Downloading Keras_Applications-1.0.8-py3-none-any.whl.metadata (1.7 kB)\n",
            "Requirement already satisfied: scikit-image in /usr/local/lib/python3.10/dist-packages (from efficientnet) (0.25.0)\n",
            "Requirement already satisfied: numpy>=1.9.1 in /usr/local/lib/python3.10/dist-packages (from keras-applications<=1.0.8,>=1.0.7->efficientnet) (1.26.4)\n",
            "Requirement already satisfied: h5py in /usr/local/lib/python3.10/dist-packages (from keras-applications<=1.0.8,>=1.0.7->efficientnet) (3.12.1)\n",
            "Requirement already satisfied: scipy>=1.11.2 in /usr/local/lib/python3.10/dist-packages (from scikit-image->efficientnet) (1.13.1)\n",
            "Requirement already satisfied: networkx>=3.0 in /usr/local/lib/python3.10/dist-packages (from scikit-image->efficientnet) (3.4.2)\n",
            "Requirement already satisfied: pillow>=10.1 in /usr/local/lib/python3.10/dist-packages (from scikit-image->efficientnet) (11.0.0)\n",
            "Requirement already satisfied: imageio!=2.35.0,>=2.33 in /usr/local/lib/python3.10/dist-packages (from scikit-image->efficientnet) (2.36.1)\n",
            "Requirement already satisfied: tifffile>=2022.8.12 in /usr/local/lib/python3.10/dist-packages (from scikit-image->efficientnet) (2024.12.12)\n",
            "Requirement already satisfied: packaging>=21 in /usr/local/lib/python3.10/dist-packages (from scikit-image->efficientnet) (24.2)\n",
            "Requirement already satisfied: lazy-loader>=0.4 in /usr/local/lib/python3.10/dist-packages (from scikit-image->efficientnet) (0.4)\n",
            "Downloading efficientnet-1.1.1-py3-none-any.whl (18 kB)\n",
            "Downloading Keras_Applications-1.0.8-py3-none-any.whl (50 kB)\n",
            "\u001b[2K   \u001b[90m━━━━━━━━━━━━━━━━━━━━━━━━━━━━━━━━━━━━━━━━\u001b[0m \u001b[32m50.7/50.7 kB\u001b[0m \u001b[31m2.1 MB/s\u001b[0m eta \u001b[36m0:00:00\u001b[0m\n",
            "\u001b[?25hInstalling collected packages: keras-applications, efficientnet\n",
            "Successfully installed efficientnet-1.1.1 keras-applications-1.0.8\n"
          ]
        }
      ]
    },
    {
      "cell_type": "code",
      "source": [
        "from tensorflow.keras import layers, models\n",
        "from tensorflow.keras.models import Sequential\n",
        "from tensorflow.keras.layers import Conv2D, MaxPooling2D, Flatten, Dense, Dropout, BatchNormalization\n",
        "from sklearn.model_selection import StratifiedKFold\n",
        "from tensorflow.keras.applications import EfficientNetV2B0\n",
        "from tensorflow.keras.applications.efficientnet_v2 import preprocess_input\n",
        "from tensorflow.keras.optimizers import Adam\n",
        "from tensorflow.keras import mixed_precision\n",
        "from tensorflow.keras.callbacks import ReduceLROnPlateau\n",
        "import tensorflow as tf\n",
        "from tensorflow.keras.models import load_model\n",
        "\n",
        "# Implementing mixed precision training for faster outcomes\n",
        "mixed_precision.set_global_policy('mixed_float16')\n",
        "\n",
        "# Normalizing the data to fit EfficientNetV2B0\n",
        "X_train = preprocess_input(X_train)\n",
        "X_valid = preprocess_input(X_valid)\n",
        "\n",
        "# Setting the input shape based on the data\n",
        "input_shape = (X_train.shape[1], X_train.shape[2], X_train.shape[3])\n",
        "\n",
        "# Loading the pre-trained EfficientNetV2B0 model\n",
        "base_model = EfficientNetV2B0(\n",
        "    include_top=False,\n",
        "    weights='imagenet',\n",
        "    input_shape=input_shape\n",
        ")\n",
        "\n",
        "# Defining a new model\n",
        "model = models.Sequential()\n",
        "\n",
        "# Freezing the base model layers if we don't want to update them during training\n",
        "base_model.trainable = False\n",
        "\n",
        "# Adding the pre-trained model\n",
        "model.add(base_model)\n",
        "model.add(layers.GlobalAveragePooling2D())  # Selecting the best representations\n",
        "# Adding additional layers\n",
        "model.add(layers.Dense(128, activation='relu'))\n",
        "model.add(layers.BatchNormalization())\n",
        "model.add(layers.Dropout(0.4))  # Adding Dropout to prevent overfitting\n",
        "model.add(layers.Dense(num_classes, activation='softmax'))\n",
        "\n",
        "# Loading saved model with the latest epoch froim 'model_train_{epoch:02d}_{val_loss:.4f}.keras'\n",
        "latest_checkpoint_path, initial_epoch = return_latest_checkpoint_path(checkpoint_dir, 'model_train')\n",
        "if latest_checkpoint_path:\n",
        "    model = load_model(latest_checkpoint_path)\n",
        "    print(\"Resumed training from the latest checkpoint.\")\n",
        "else:\n",
        "    initial_epoch = 0\n",
        "    print(\"Starting training from scratch.\")\n",
        "\n",
        "# Compiling the model\n",
        "model.compile(optimizer='adam', loss='categorical_crossentropy', metrics=['accuracy'])\n",
        "\n",
        "# Training the model\n",
        "history = model.fit(\n",
        "    X_train, Y_train,\n",
        "    epochs=20,\n",
        "    initial_epoch=initial_epoch,\n",
        "    batch_size=128, # try larger throughput 128, 256, original is 64\n",
        "    validation_data=(X_valid, Y_valid),\n",
        "    callbacks=[early_stopping, checkpoint_train],\n",
        "    verbose=1\n",
        ")\n",
        "\n",
        "# Fine-tuning the last 10 layers\n",
        "base_model.trainable = False\n",
        "for layer in base_model.layers[-10:]:\n",
        "    layer.trainable = True\n",
        "\n",
        "# Loading saved model with the latest epoch froim 'model_train_{epoch:02d}_{val_loss:.4f}.keras'\n",
        "latest_checkpoint_path, initial_epoch = return_latest_checkpoint_path(checkpoint_dir, 'model_finetune')\n",
        "if latest_checkpoint_path:\n",
        "    model = load_model(latest_checkpoint_path)\n",
        "    print(\"Resumed fine-tuning from the latest checkpoint.\")\n",
        "else:\n",
        "    initial_epoch = 0\n",
        "    print(\"Starting fine-tuning from scratch.\")\n",
        "\n",
        "model.compile(optimizer=Adam(1e-5), loss='categorical_crossentropy', metrics=['accuracy']) # low learning rate\n",
        "\n",
        "fine_tuning_history = model.fit(\n",
        "    X_train, Y_train,\n",
        "    epochs=5,\n",
        "    initial_epoch=initial_epoch,\n",
        "    batch_size=128,\n",
        "    validation_data=(X_valid, Y_valid),\n",
        "    callbacks=[early_stopping, checkpoint_finetune],\n",
        "    verbose=1\n",
        ")\n",
        "\n",
        "# Saving the results\n",
        "final_model_path = os.path.join(checkpoint_dir, f'final_model.keras')\n",
        "model.save(final_model_path)\n",
        "\n",
        "valid_loss, valid_accuracy = model.evaluate(X_valid, Y_valid)\n",
        "\n",
        "# Summary of the final model\n",
        "model.summary()"
      ],
      "metadata": {
        "id": "X5otFkcSuURW",
        "colab": {
          "base_uri": "https://localhost:8080/"
        },
        "outputId": "ce1c7a2d-0bd5-459f-80a5-b204c2fe1e90"
      },
      "execution_count": null,
      "outputs": [
        {
          "output_type": "stream",
          "name": "stderr",
          "text": [
            "WARNING:tensorflow:Mixed precision compatibility check (mixed_float16): WARNING\n",
            "The dtype policy mixed_float16 may run slowly because this machine does not have a GPU. Only Nvidia GPUs with compute capability of at least 7.0 run quickly with mixed_float16.\n",
            "If you will use compatible GPU(s) not attached to this host, e.g. by running a multi-worker model, you can ignore this warning. This message will only be logged once\n"
          ]
        },
        {
          "output_type": "stream",
          "name": "stdout",
          "text": [
            "Downloading data from https://storage.googleapis.com/tensorflow/keras-applications/efficientnet_v2/efficientnetv2-b0_notop.h5\n",
            "24274472/24274472 [==============================] - 0s 0us/step\n",
            "Resumed training from the latest checkpoint.\n",
            "Epoch 5/20\n",
            "12/12 [==============================] - ETA: 0s - loss: 1.2012 - accuracy: 0.6792 \n",
            "Epoch 5: saving model to /content/drive/MyDrive/DeepLearning/checkpoints_sample/model_train_05_1.3348.keras\n",
            "12/12 [==============================] - 141s 11s/step - loss: 1.2012 - accuracy: 0.6792 - val_loss: 1.3348 - val_accuracy: 0.5989\n",
            "Epoch 6/20\n",
            "12/12 [==============================] - ETA: 0s - loss: 1.0715 - accuracy: 0.6961 \n",
            "Epoch 6: saving model to /content/drive/MyDrive/DeepLearning/checkpoints_sample/model_train_06_1.2337.keras\n",
            "12/12 [==============================] - 128s 11s/step - loss: 1.0715 - accuracy: 0.6961 - val_loss: 1.2337 - val_accuracy: 0.6384\n",
            "Epoch 7/20\n",
            "12/12 [==============================] - ETA: 0s - loss: 0.9237 - accuracy: 0.7371 \n",
            "Epoch 7: saving model to /content/drive/MyDrive/DeepLearning/checkpoints_sample/model_train_07_1.1623.keras\n",
            "12/12 [==============================] - 126s 11s/step - loss: 0.9237 - accuracy: 0.7371 - val_loss: 1.1623 - val_accuracy: 0.6497\n",
            "Epoch 8/20\n",
            "12/12 [==============================] - ETA: 0s - loss: 0.8541 - accuracy: 0.7717\n",
            "Epoch 8: saving model to /content/drive/MyDrive/DeepLearning/checkpoints_sample/model_train_08_1.0949.keras\n",
            "12/12 [==============================] - 125s 10s/step - loss: 0.8541 - accuracy: 0.7717 - val_loss: 1.0949 - val_accuracy: 0.6893\n",
            "Epoch 9/20\n",
            "12/12 [==============================] - ETA: 0s - loss: 0.8061 - accuracy: 0.7611\n",
            "Epoch 9: saving model to /content/drive/MyDrive/DeepLearning/checkpoints_sample/model_train_09_1.0782.keras\n",
            "12/12 [==============================] - 124s 10s/step - loss: 0.8061 - accuracy: 0.7611 - val_loss: 1.0782 - val_accuracy: 0.7062\n",
            "Epoch 10/20\n",
            "12/12 [==============================] - ETA: 0s - loss: 0.7540 - accuracy: 0.7717\n",
            "Epoch 10: saving model to /content/drive/MyDrive/DeepLearning/checkpoints_sample/model_train_10_1.0482.keras\n",
            "12/12 [==============================] - 125s 10s/step - loss: 0.7540 - accuracy: 0.7717 - val_loss: 1.0482 - val_accuracy: 0.7006\n",
            "Epoch 11/20\n",
            "12/12 [==============================] - ETA: 0s - loss: 0.6978 - accuracy: 0.7915\n",
            "Epoch 11: saving model to /content/drive/MyDrive/DeepLearning/checkpoints_sample/model_train_11_0.9885.keras\n",
            "12/12 [==============================] - 125s 10s/step - loss: 0.6978 - accuracy: 0.7915 - val_loss: 0.9885 - val_accuracy: 0.7458\n",
            "Epoch 12/20\n",
            "12/12 [==============================] - ETA: 0s - loss: 0.6595 - accuracy: 0.8021\n",
            "Epoch 12: saving model to /content/drive/MyDrive/DeepLearning/checkpoints_sample/model_train_12_0.9595.keras\n",
            "12/12 [==============================] - 125s 10s/step - loss: 0.6595 - accuracy: 0.8021 - val_loss: 0.9595 - val_accuracy: 0.7571\n",
            "Epoch 13/20\n",
            "12/12 [==============================] - ETA: 0s - loss: 0.6172 - accuracy: 0.8191\n",
            "Epoch 13: saving model to /content/drive/MyDrive/DeepLearning/checkpoints_sample/model_train_13_0.9867.keras\n",
            "12/12 [==============================] - 125s 10s/step - loss: 0.6172 - accuracy: 0.8191 - val_loss: 0.9867 - val_accuracy: 0.7288\n",
            "Epoch 14/20\n",
            "12/12 [==============================] - ETA: 0s - loss: 0.6132 - accuracy: 0.8219\n",
            "Epoch 14: saving model to /content/drive/MyDrive/DeepLearning/checkpoints_sample/model_train_14_1.0175.keras\n",
            "12/12 [==============================] - 124s 10s/step - loss: 0.6132 - accuracy: 0.8219 - val_loss: 1.0175 - val_accuracy: 0.7345\n",
            "Epoch 15/20\n",
            "12/12 [==============================] - ETA: 0s - loss: 0.6011 - accuracy: 0.8212\n",
            "Epoch 15: saving model to /content/drive/MyDrive/DeepLearning/checkpoints_sample/model_train_15_0.9233.keras\n",
            "12/12 [==============================] - 123s 10s/step - loss: 0.6011 - accuracy: 0.8212 - val_loss: 0.9233 - val_accuracy: 0.7288\n",
            "Epoch 16/20\n",
            "12/12 [==============================] - ETA: 0s - loss: 0.5975 - accuracy: 0.8127\n",
            "Epoch 16: saving model to /content/drive/MyDrive/DeepLearning/checkpoints_sample/model_train_16_0.8513.keras\n",
            "12/12 [==============================] - 125s 11s/step - loss: 0.5975 - accuracy: 0.8127 - val_loss: 0.8513 - val_accuracy: 0.7514\n",
            "Epoch 17/20\n",
            "12/12 [==============================] - ETA: 0s - loss: 0.5543 - accuracy: 0.8318\n",
            "Epoch 17: saving model to /content/drive/MyDrive/DeepLearning/checkpoints_sample/model_train_17_0.8562.keras\n",
            "12/12 [==============================] - 125s 10s/step - loss: 0.5543 - accuracy: 0.8318 - val_loss: 0.8562 - val_accuracy: 0.7514\n",
            "Epoch 18/20\n",
            "12/12 [==============================] - ETA: 0s - loss: 0.5077 - accuracy: 0.8551\n",
            "Epoch 18: saving model to /content/drive/MyDrive/DeepLearning/checkpoints_sample/model_train_18_0.8300.keras\n",
            "12/12 [==============================] - 124s 10s/step - loss: 0.5077 - accuracy: 0.8551 - val_loss: 0.8300 - val_accuracy: 0.7458\n",
            "Epoch 19/20\n",
            "12/12 [==============================] - ETA: 0s - loss: 0.5059 - accuracy: 0.8558\n",
            "Epoch 19: saving model to /content/drive/MyDrive/DeepLearning/checkpoints_sample/model_train_19_0.8226.keras\n",
            "12/12 [==============================] - 124s 10s/step - loss: 0.5059 - accuracy: 0.8558 - val_loss: 0.8226 - val_accuracy: 0.7627\n",
            "Epoch 20/20\n",
            "12/12 [==============================] - ETA: 0s - loss: 0.4734 - accuracy: 0.8629\n",
            "Epoch 20: saving model to /content/drive/MyDrive/DeepLearning/checkpoints_sample/model_train_20_0.7970.keras\n",
            "12/12 [==============================] - 124s 10s/step - loss: 0.4734 - accuracy: 0.8629 - val_loss: 0.7970 - val_accuracy: 0.7684\n",
            "No checkpoint found for fold.\n",
            "Starting fine-tuning from scratch.\n",
            "Epoch 1/5\n",
            "12/12 [==============================] - ETA: 0s - loss: 0.4583 - accuracy: 0.8629\n",
            "Epoch 1: saving model to /content/drive/MyDrive/DeepLearning/checkpoints_sample/model_finetune_01_0.7862.keras\n",
            "12/12 [==============================] - 137s 11s/step - loss: 0.4583 - accuracy: 0.8629 - val_loss: 0.7862 - val_accuracy: 0.7684\n",
            "Epoch 2/5\n",
            "12/12 [==============================] - ETA: 0s - loss: 0.4437 - accuracy: 0.8700\n",
            "Epoch 2: saving model to /content/drive/MyDrive/DeepLearning/checkpoints_sample/model_finetune_02_0.7746.keras\n",
            "12/12 [==============================] - 125s 10s/step - loss: 0.4437 - accuracy: 0.8700 - val_loss: 0.7746 - val_accuracy: 0.7797\n",
            "Epoch 3/5\n",
            "12/12 [==============================] - ETA: 0s - loss: 0.4299 - accuracy: 0.8686\n",
            "Epoch 3: saving model to /content/drive/MyDrive/DeepLearning/checkpoints_sample/model_finetune_03_0.7655.keras\n",
            "12/12 [==============================] - 124s 10s/step - loss: 0.4299 - accuracy: 0.8686 - val_loss: 0.7655 - val_accuracy: 0.7740\n",
            "Epoch 4/5\n",
            "12/12 [==============================] - ETA: 0s - loss: 0.4369 - accuracy: 0.8707\n",
            "Epoch 4: saving model to /content/drive/MyDrive/DeepLearning/checkpoints_sample/model_finetune_04_0.7585.keras\n",
            "12/12 [==============================] - 124s 10s/step - loss: 0.4369 - accuracy: 0.8707 - val_loss: 0.7585 - val_accuracy: 0.7740\n",
            "Epoch 5/5\n",
            "12/12 [==============================] - ETA: 0s - loss: 0.4705 - accuracy: 0.8700\n",
            "Epoch 5: saving model to /content/drive/MyDrive/DeepLearning/checkpoints_sample/model_finetune_05_0.7517.keras\n",
            "12/12 [==============================] - 124s 10s/step - loss: 0.4705 - accuracy: 0.8700 - val_loss: 0.7517 - val_accuracy: 0.7740\n",
            "6/6 [==============================] - 15s 2s/step - loss: 0.7517 - accuracy: 0.7740\n",
            "Model: \"sequential\"\n",
            "_________________________________________________________________\n",
            " Layer (type)                Output Shape              Param #   \n",
            "=================================================================\n",
            " efficientnetv2-b0 (Functio  (None, 4, 10, 1280)       5919312   \n",
            " nal)                                                            \n",
            "                                                                 \n",
            " global_average_pooling2d (  (None, 1280)              0         \n",
            " GlobalAveragePooling2D)                                         \n",
            "                                                                 \n",
            " dense (Dense)               (None, 128)               163968    \n",
            "                                                                 \n",
            " batch_normalization (Batch  (None, 128)               512       \n",
            " Normalization)                                                  \n",
            "                                                                 \n",
            " dropout (Dropout)           (None, 128)               0         \n",
            "                                                                 \n",
            " dense_1 (Dense)             (None, 20)                2580      \n",
            "                                                                 \n",
            "=================================================================\n",
            "Total params: 6086372 (23.22 MB)\n",
            "Trainable params: 166804 (651.58 KB)\n",
            "Non-trainable params: 5919568 (22.58 MB)\n",
            "_________________________________________________________________\n"
          ]
        }
      ]
    },
    {
      "cell_type": "code",
      "source": [
        "print(\"\\nResults:\")\n",
        "print(f\"Validation Loss: {valid_loss}\")\n",
        "print(f\"Validation Accuracy: {valid_accuracy}\")"
      ],
      "metadata": {
        "id": "IG5spDQxY_e3",
        "outputId": "7ffbd0fa-e025-4cd7-efd9-37381aef54ac",
        "colab": {
          "base_uri": "https://localhost:8080/"
        }
      },
      "execution_count": null,
      "outputs": [
        {
          "output_type": "stream",
          "name": "stdout",
          "text": [
            "\n",
            "Results:\n",
            "Validation Loss: 0.751702070236206\n",
            "Validation Accuracy: 0.7740113139152527\n"
          ]
        }
      ]
    },
    {
      "cell_type": "code",
      "source": [
        "import matplotlib.pyplot as plt\n",
        "\n",
        "#Diplaying accuracy and loss on separate diagrams\n",
        "plt.figure(figsize=(12, 6))\n",
        "\n",
        "# Plot accuracy\n",
        "plt.subplot(1, 2, 1)\n",
        "plt.plot(history.history['accuracy'], label='Training Accuracy')\n",
        "plt.plot(history.history['val_accuracy'], label='Validation Accuracy')\n",
        "plt.title(f'Fold {5} Accuracy') # i is replaced by 5\n",
        "plt.xlabel('Epochs')\n",
        "plt.ylabel('Accuracy')\n",
        "plt.legend()\n",
        "\n",
        "# Plot loss\n",
        "plt.subplot(1, 2, 2)\n",
        "plt.plot(history.history['loss'], label='Training Loss')\n",
        "plt.plot(history.history['val_loss'], label='Validation Loss')\n",
        "plt.title(f'Fold {5} Loss') # i is replaced by 5\n",
        "plt.xlabel('Epochs')\n",
        "plt.ylabel('Loss')\n",
        "plt.legend()\n",
        "\n",
        "plt.tight_layout()\n",
        "plt.show()"
      ],
      "metadata": {
        "id": "FdDH9g7BZCXP",
        "outputId": "8e2bffc3-9d32-4553-d1aa-e93527400867",
        "colab": {
          "base_uri": "https://localhost:8080/",
          "height": 591
        }
      },
      "execution_count": null,
      "outputs": [
        {
          "output_type": "display_data",
          "data": {
            "text/plain": [
              "<Figure size 1200x600 with 2 Axes>"
            ],
            "image/png": "[encoded data removed]"
          },
          "metadata": {}
        }
      ]
    }
  ]
}