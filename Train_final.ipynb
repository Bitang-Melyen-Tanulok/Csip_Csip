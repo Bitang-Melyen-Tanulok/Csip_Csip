{
  "nbformat": 4,
  "nbformat_minor": 0,
  "metadata": {
    "colab": {
      "provenance": [],
      "gpuType": "V28",
      "include_colab_link": true
    },
    "kernelspec": {
      "name": "python3",
      "display_name": "Python 3"
    },
    "language_info": {
      "name": "python"
    },
    "accelerator": "TPU"
  },
  "cells": [
    {
      "cell_type": "markdown",
      "metadata": {
        "id": "view-in-github",
        "colab_type": "text"
      },
      "source": [
        "<a href=\"https://colab.research.google.com/github/Bitang-Melyen-Tanulok/Csip_Csip/blob/main/Train_final.ipynb\" target=\"_parent\"><img src=\"https://colab.research.google.com/assets/colab-badge.svg\" alt=\"Open In Colab\"/></a>"
      ]
    },
    {
      "cell_type": "code",
      "execution_count": null,
      "metadata": {
        "colab": {
          "base_uri": "https://localhost:8080/"
        },
        "id": "tQrSXadE4xMi",
        "outputId": "1f1e0a87-fc89-4ab9-f0db-515ee45f4414"
      },
      "outputs": [
        {
          "output_type": "stream",
          "name": "stdout",
          "text": [
            "Drive already mounted at /content/drive; to attempt to forcibly remount, call drive.mount(\"/content/drive\", force_remount=True).\n",
            "Current folder: blrwar1\n",
            "Current folder: categr\n",
            "Current folder: forwag1\n",
            "Current folder: grenig1\n",
            "Current folder: jerbus2\n",
            "(2140, 308, 310, 3)\n",
            "(2140,)\n",
            "\n"
          ]
        }
      ],
      "source": [
        "import os\n",
        "import numpy as np\n",
        "import matplotlib.pyplot as plt\n",
        "from tensorflow.keras.preprocessing import image\n",
        "from sklearn.preprocessing import LabelEncoder\n",
        "from tensorflow.keras.utils import to_categorical\n",
        "from PIL import Image\n",
        "from google.colab import drive\n",
        "\n",
        "X = []\n",
        "Y = []\n",
        "drive.mount('/content/drive')\n",
        "path = '/content/drive/MyDrive/DeepLearning'\n",
        "spectrograms_path = os.path.join(path, 'ugyanaz?')  # Adott mappa elérési útvonala\n",
        "folders = os.listdir(spectrograms_path)\n",
        "\n",
        "for folder in folders:\n",
        "    print(f\"Current folder: {folder}\")\n",
        "    folder_path = os.path.join(spectrograms_path, folder)  # Mappa útvonal\n",
        "\n",
        "    # Fájlok bejárása a mappában\n",
        "    files = os.listdir(folder_path)\n",
        "\n",
        "    for file in files:\n",
        "        if file.endswith('.png'):  # Csak PNG fájlokat olvasunk be\n",
        "            file_path = os.path.join(folder_path, file)\n",
        "\n",
        "            # Kép betöltése\n",
        "            img = image.load_img(file_path, color_mode='rgb')\n",
        "            img_array = image.img_to_array(img)  # Kép tömbbé alakítása\n",
        "            X.append(img_array)\n",
        "            Y.append(folder)\n",
        "\n",
        "\n",
        "X = np.array(X)\n",
        "Y = np.array(Y)\n",
        "\n",
        "print(f\"\\nX shape: {X.shape}\")\n",
        "print(f\"Y shape: {Y.shape}\")\n",
        "\n",
        "#shuffle X and Y the same way\n",
        "permutation = np.random.permutation(len(X))\n",
        "X = X[permutation]\n",
        "Y = Y[permutation]\n",
        "\n",
        "test_split = 0.1\n",
        "valid_split = 0.1\n",
        "\n",
        "nb_samples = len(X)\n",
        "valid_start_idx = int(nb_samples*(1-valid_split-test_split))\n",
        "test_start_idx = int(nb_samples*(1-test_split))\n",
        "\n",
        "X_train = X[:valid_start_idx]\n",
        "Y_train = Y[:valid_start_idx]\n",
        "X_valid = X[valid_start_idx:test_start_idx]\n",
        "Y_valid = Y[valid_start_idx:test_start_idx]\n",
        "X_test = X[test_start_idx:]\n",
        "Y_test = Y[test_start_idx:]"
      ]
    },
    {
      "cell_type": "code",
      "source": [
        "from sklearn.preprocessing import LabelEncoder\n",
        "from tensorflow.keras.utils import to_categorical\n",
        "\n",
        "#Since this is a multi-class classification task, I am converting labels to one-hot format:\n",
        "\n",
        "#First, the labels need to be converted into numerical values\n",
        "le = LabelEncoder()\n",
        "Y_train_encoded = le.fit_transform(Y_train)\n",
        "Y_valid_encoded = le.transform(Y_valid)\n",
        "Y_test_encoded = le.transform(Y_test)\n",
        "\n",
        "#Getting number of classes\n",
        "num_classes = len(le.classes_)\n",
        "print(f\"Class number= {num_classes}\")\n",
        "\n",
        "# Converting to one-hot encoding\n",
        "Y_train= to_categorical(Y_train_encoded, num_classes)\n",
        "Y_valid = to_categorical(Y_valid_encoded, num_classes)\n",
        "Y_test = to_categorical(Y_test_encoded, num_classes)"
      ],
      "metadata": {
        "id": "8Wr1YIvJXB2e",
        "colab": {
          "base_uri": "https://localhost:8080/"
        },
        "outputId": "3d1512d9-2b38-4d07-c487-517ddff5b5c6"
      },
      "execution_count": null,
      "outputs": [
        {
          "output_type": "stream",
          "name": "stdout",
          "text": [
            "Class number= 5\n"
          ]
        }
      ]
    },
    {
      "cell_type": "code",
      "source": [
        "from tensorflow.keras.callbacks import EarlyStopping\n",
        "\n",
        "#Implementing early stopping, since there is no reason for it to learn further when val_loss isn't decreasing\n",
        "early_stopping = EarlyStopping(\n",
        "    monitor='val_loss',\n",
        "    patience=5, #If it doesn't improve for 10 epochs, it concludes\n",
        "    verbose=1,\n",
        "    restore_best_weights=True\n",
        ")"
      ],
      "metadata": {
        "id": "FUAtgZ4iuF9d"
      },
      "execution_count": null,
      "outputs": []
    },
    {
      "cell_type": "code",
      "source": [
        "from tensorflow.keras.callbacks import ModelCheckpoint # Importing the missing ModelCheckpoint class\n",
        "\n",
        "checkpoint_dir = '/content/drive/MyDrive/DeepLearning/checkpoints_sample'\n",
        "os.makedirs(checkpoint_dir, exist_ok=True)\n",
        "\n",
        "checkpoint_train_path = os.path.join(checkpoint_dir, 'model_train_{epoch:02d}_{val_loss:.4f}.keras')\n",
        "checkpoint_finetune_path = os.path.join(checkpoint_dir, 'model_finetune_{epoch:02d}_{val_loss:.4f}.keras')\n",
        "\n",
        "#Saving the latest model at each epoch, so that if colab collapses, we don't have to start from zero\n",
        "checkpoint_train = ModelCheckpoint(\n",
        "    checkpoint_train_path,\n",
        "    monitor='val_loss',\n",
        "    save_best_only=False,\n",
        "    save_weights_only=False,\n",
        "    save_freq='epoch',\n",
        "    verbose=1\n",
        ")\n",
        "\n",
        "checkpoint_finetune = ModelCheckpoint(\n",
        "    checkpoint_finetune_path,\n",
        "    monitor='val_loss',\n",
        "    save_best_only=False,\n",
        "    save_weights_only=False,\n",
        "    save_freq='epoch',\n",
        "    verbose=1\n",
        ")"
      ],
      "metadata": {
        "id": "2ykyRUDhuG5P"
      },
      "execution_count": null,
      "outputs": []
    },
    {
      "cell_type": "code",
      "source": [
        "import re\n",
        "\n",
        "def return_latest_checkpoint_path(checkpoint_dir, fold_prefix):\n",
        "    model_files = os.listdir(checkpoint_dir)\n",
        "    # Filter files that match the fold_prefix\n",
        "    model_files = [f for f in model_files if f.startswith(fold_prefix)]\n",
        "    if not model_files:\n",
        "        print(\"No checkpoint found for fold.\")\n",
        "        return None\n",
        "\n",
        "    # Extract epoch numbers using regex\n",
        "    epoch_numbers = []\n",
        "    for f in model_files:\n",
        "        match = re.search(r'_(\\d+)', f)  # Extract the number after fold prefix and before '_val_loss'\n",
        "        if match:\n",
        "            epoch_numbers.append((int(match.group(1)), f))\n",
        "\n",
        "    # Get the latest file by epoch number\n",
        "    latest_file = max(epoch_numbers, key=lambda x: x[0])[1]\n",
        "    latest_model_path = os.path.join(checkpoint_dir, latest_file)\n",
        "    return latest_model_path"
      ],
      "metadata": {
        "id": "ZeMm1FEluNQv"
      },
      "execution_count": null,
      "outputs": []
    },
    {
      "cell_type": "code",
      "source": [
        "!pip install efficientnet"
      ],
      "metadata": {
        "id": "IiGrBwwOuQiO"
      },
      "execution_count": null,
      "outputs": []
    },
    {
      "cell_type": "code",
      "source": [
        "from tensorflow.keras import layers, models\n",
        "from tensorflow.keras.models import Sequential\n",
        "from tensorflow.keras.layers import Conv2D, MaxPooling2D, Flatten, Dense, Dropout, BatchNormalization\n",
        "from sklearn.model_selection import StratifiedKFold\n",
        "from tensorflow.keras.applications import EfficientNetV2B0\n",
        "from tensorflow.keras.applications.efficientnet_v2 import preprocess_input\n",
        "from tensorflow.keras.optimizers import Adam\n",
        "from tensorflow.keras import mixed_precision\n",
        "from tensorflow.keras.callbacks import ReduceLROnPlateau\n",
        "import tensorflow as tf\n",
        "\n",
        "# Implementing mixed precision training for faster outcomes\n",
        "mixed_precision.set_global_policy('mixed_float16')\n",
        "\n",
        "# Normalizing the data to fit EfficientNetV2B0\n",
        "X_train = preprocess_input(X_train)\n",
        "X_valid = preprocess_input(X_valid)\n",
        "\n",
        "# Setting the input shape based on the data\n",
        "input_shape = (X_train.shape[1], X_train.shape[2], X_train.shape[3])\n",
        "\n",
        "# Loading the pre-trained EfficientNetV2B0 model\n",
        "base_model = EfficientNetV2B0(\n",
        "    include_top=False,\n",
        "    weights='imagenet',\n",
        "    input_shape=input_shape\n",
        ")\n",
        "\n",
        "# Defining a new model\n",
        "model = models.Sequential()\n",
        "\n",
        "# Freezing the base model layers if we don't want to update them during training\n",
        "base_model.trainable = False\n",
        "\n",
        "# Adding the pre-trained model\n",
        "model.add(base_model)\n",
        "model.add(layers.GlobalAveragePooling2D())  # Selecting the best representations\n",
        "# Adding additional layers\n",
        "model.add(layers.Dense(128, activation='relu'))\n",
        "model.add(layers.BatchNormalization())\n",
        "model.add(layers.Dropout(0.4))  # Adding Dropout to prevent overfitting\n",
        "model.add(layers.Dense(num_classes, activation='softmax'))\n",
        "\n",
        "# Loading saved model with the latest epoch froim 'model_train_{epoch:02d}_{val_loss:.4f}.keras'\n",
        "latest_checkpoint_path = return_latest_checkpoint_path(checkpoint_dir, f'model_train')\n",
        "if latest_checkpoint_path:\n",
        "    model.load(latest_checkpoint_path)\n",
        "    print(\"Resumed training from the latest checkpoint.\")\n",
        "else:\n",
        "    print(\"Starting training from scratch.\")\n",
        "\n",
        "# Compiling the model\n",
        "model.compile(optimizer='adam', loss='categorical_crossentropy', metrics=['accuracy'])\n",
        "\n",
        "# Training the model\n",
        "history = model.fit(\n",
        "    X_train, Y_train,\n",
        "    epochs=20,\n",
        "    batch_size=128, # try larger throughput 128, 256, original is 64\n",
        "    validation_data=(X_valid, Y_valid),\n",
        "    callbacks=[early_stopping, checkpoint_train],\n",
        "    verbose=1\n",
        ")\n",
        "\n",
        "# Fine-tuning the last 10 layers\n",
        "base_model.trainable = False\n",
        "for layer in base_model.layers[-10:]:\n",
        "    layer.trainable = True\n",
        "\n",
        "# Loading saved model with the latest epoch froim 'model_train_{epoch:02d}_{val_loss:.4f}.keras'\n",
        "latest_checkpoint_path = return_latest_checkpoint_path(checkpoint_dir, f'model_finetune')\n",
        "if latest_checkpoint_path:\n",
        "    model.load(latest_checkpoint_path)\n",
        "    print(\"Resumed fine-tuning from the latest checkpoint.\")\n",
        "else:\n",
        "    print(\"Starting fine-tuning from scratch.\")\n",
        "\n",
        "model.compile(optimizer=Adam(1e-5), loss='categorical_crossentropy', metrics=['accuracy']) # low learning rate\n",
        "\n",
        "fine_tuning_history = model.fit(\n",
        "    X_train, Y_train,\n",
        "    epochs=5,\n",
        "    batch_size=128,\n",
        "    validation_data=(X_valid, Y_valid),\n",
        "    callbacks=[early_stopping, checkpoint_finetune],\n",
        "    verbose=1\n",
        ")\n",
        "\n",
        "# Saving the results\n",
        "final_model_path = os.path.join(checkpoint_dir, f'final_model.keras')\n",
        "model.save(final_model_path)\n",
        "\n",
        "valid_loss, valid_accuracy = model.evaluate(X_valid, Y_valid)\n",
        "\n",
        "# Summary of the final model\n",
        "model.summary()"
      ],
      "metadata": {
        "id": "X5otFkcSuURW"
      },
      "execution_count": null,
      "outputs": []
    },
    {
      "cell_type": "code",
      "source": [
        "print(\"\\nResults:\")\n",
        "print(f\"Validation Loss: {valid_loss}\")\n",
        "print(f\"Validation Accuracy: {valid_accuracy}\")"
      ],
      "metadata": {
        "id": "IG5spDQxY_e3",
        "colab": {
          "base_uri": "https://localhost:8080/"
        },
        "outputId": "de25330d-9e7f-46ad-e08e-91e81afd2445"
      },
      "execution_count": null,
      "outputs": [
        {
          "output_type": "stream",
          "name": "stdout",
          "text": [
            "\u001b[1m7/7\u001b[0m \u001b[32m━━━━━━━━━━━━━━━━━━━━\u001b[0m\u001b[37m\u001b[0m \u001b[1m0s\u001b[0m 37ms/step - accuracy: 0.9736 - loss: 0.0802\n",
            "Test Loss: 0.08667296171188354\n",
            "Test Accuracy: 0.9719626307487488\n"
          ]
        }
      ]
    },
    {
      "cell_type": "code",
      "source": [
        "import matplotlib.pyplot as plt\n",
        "\n",
        "#Diplaying accuracy and loss on separate diagrams\n",
        "plt.figure(figsize=(12, 6))\n",
        "\n",
        "# Plot accuracy\n",
        "plt.subplot(1, 2, 1)\n",
        "plt.plot(history.history['accuracy'], label='Training Accuracy')\n",
        "plt.plot(history.history['val_accuracy'], label='Validation Accuracy')\n",
        "plt.title(f'Fold {i + 1} Accuracy')\n",
        "plt.xlabel('Epochs')\n",
        "plt.ylabel('Accuracy')\n",
        "plt.legend()\n",
        "\n",
        "# Plot loss\n",
        "plt.subplot(1, 2, 2)\n",
        "plt.plot(history.history['loss'], label='Training Loss')\n",
        "plt.plot(history.history['val_loss'], label='Validation Loss')\n",
        "plt.title(f'Fold {i + 1} Loss')\n",
        "plt.xlabel('Epochs')\n",
        "plt.ylabel('Loss')\n",
        "plt.legend()\n",
        "\n",
        "plt.tight_layout()\n",
        "plt.show()"
      ],
      "metadata": {
        "id": "FdDH9g7BZCXP",
        "colab": {
          "base_uri": "https://localhost:8080/",
          "height": 881
        },
        "outputId": "55057b75-a63f-4dbe-8220-004e56559c89"
      },
      "execution_count": null,
      "outputs": [
        {
          "output_type": "display_data",
          "data": {
            "text/plain": [
              "<Figure size 640x480 with 1 Axes>"
            ],
            "image/png": "[encoded data removed]"
          },
          "metadata": {}
        },
        {
          "output_type": "display_data",
          "data": {
            "text/plain": [
              "<Figure size 640x480 with 1 Axes>"
            ],
            "image/png": "[encoded data removed]"
          },
          "metadata": {}
        }
      ]
    }
  ]
}