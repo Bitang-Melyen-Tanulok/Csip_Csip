{
  "nbformat": 4,
  "nbformat_minor": 0,
  "metadata": {
    "colab": {
      "provenance": [],
      "mount_file_id": "https://github.com/Bitang-Melyen-Tanulok/Csip_Csip/blob/main/Marci_BirdCLEF.ipynb",
      "authorship_tag": "ABX9TyP7INvWNSNLg1pkQF5baf1i",
      "include_colab_link": true
    },
    "kernelspec": {
      "name": "python3",
      "display_name": "Python 3"
    },
    "language_info": {
      "name": "python"
    }
  },
  "cells": [
    {
      "cell_type": "markdown",
      "metadata": {
        "id": "view-in-github",
        "colab_type": "text"
      },
      "source": [
        "<a href=\"https://colab.research.google.com/github/Bitang-Melyen-Tanulok/Csip_Csip/blob/main/Marci_BirdCLEF.ipynb\" target=\"_parent\"><img src=\"https://colab.research.google.com/assets/colab-badge.svg\" alt=\"Open In Colab\"/></a>"
      ]
    },
    {
      "cell_type": "code",
      "execution_count": 20,
      "metadata": {
        "id": "baQbGTJ6OLZC",
        "outputId": "83f67382-8737-4da8-8cb5-0b9d448dc67f",
        "colab": {
          "base_uri": "https://localhost:8080/"
        }
      },
      "outputs": [
        {
          "output_type": "stream",
          "name": "stdout",
          "text": [
            "Drive already mounted at /content/drive; to attempt to forcibly remount, call drive.mount(\"/content/drive\", force_remount=True).\n"
          ]
        }
      ],
      "source": [
        "from google.colab import userdata\n",
        "import os\n",
        "\n",
        "os.environ[\"KAGGLE_KEY\"] = userdata.get('KAGGLE_KEY')\n",
        "os.environ[\"KAGGLE_USERNAME\"] = userdata.get('KAGGLE_USERNAME')\n",
        "\n",
        "\n",
        "from google.colab import drive\n",
        "drive.mount('/content/drive')"
      ]
    },
    {
      "cell_type": "code",
      "source": [
        "!cd /content/drive/MyDrive/DeepLearning\n",
        "\n",
        "!kaggle competitions download -c birdclef-2024"
      ],
      "metadata": {
        "id": "IxpvslUA-UNU",
        "outputId": "825ab568-bed0-42af-a054-63b633492db3",
        "colab": {
          "base_uri": "https://localhost:8080/"
        }
      },
      "execution_count": 22,
      "outputs": [
        {
          "output_type": "stream",
          "name": "stdout",
          "text": [
            "Downloading birdclef-2024.zip to /content\n",
            " 19% 4.12G/21.8G [01:05<04:39, 68.0MB/s]\n",
            "User cancelled operation\n",
            "Traceback (most recent call last):\n",
            "  File \"/usr/local/bin/kaggle\", line 8, in <module>\n",
            "    sys.exit(main())\n",
            "  File \"/usr/local/lib/python3.10/dist-packages/kaggle/cli.py\", line 79, in main\n",
            "    if out is not None:\n",
            "KeyboardInterrupt\n",
            "^C\n"
          ]
        }
      ]
    },
    {
      "cell_type": "code",
      "source": [
        "%cd /content/drive/MyDrive/DeepLearning\n",
        "!kaggle competitions download -c birdclef-2024"
      ],
      "metadata": {
        "id": "1zL1OCpu-g2U",
        "outputId": "13c04ec8-facc-40b1-941f-1f2ec55451a0",
        "colab": {
          "base_uri": "https://localhost:8080/"
        }
      },
      "execution_count": 31,
      "outputs": [
        {
          "output_type": "stream",
          "name": "stdout",
          "text": [
            "/content/drive/.shortcut-targets-by-id/14L9x4h4L96yptiH9WIzuLnI8-Atjz2zY/DeepLearning\n",
            "Downloading birdclef-2024.zip to /content/drive/.shortcut-targets-by-id/14L9x4h4L96yptiH9WIzuLnI8-Atjz2zY/DeepLearning\n",
            "100% 21.8G/21.8G [05:35<00:00, 67.8MB/s]\n",
            "100% 21.8G/21.8G [05:35<00:00, 69.7MB/s]\n"
          ]
        }
      ]
    },
    {
      "cell_type": "code",
      "source": [
        "path = '/content/drive/MyDrive/DeepLearning'\n",
        "\n",
        "import zipfile\n",
        "with zipfile.ZipFile(path+'/birdclef-2024.zip', 'r') as zip_ref:\n",
        "    zip_ref.extractall(path)"
      ],
      "metadata": {
        "id": "Vw7aR9Nl_kRy"
      },
      "execution_count": 34,
      "outputs": []
    }
  ]
}