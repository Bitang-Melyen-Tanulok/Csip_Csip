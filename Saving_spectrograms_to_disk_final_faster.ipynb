{
  "nbformat": 4,
  "nbformat_minor": 0,
  "metadata": {
    "colab": {
      "provenance": [],
      "gpuType": "V28",
      "include_colab_link": true
    },
    "kernelspec": {
      "name": "python3",
      "display_name": "Python 3"
    },
    "language_info": {
      "name": "python"
    },
    "accelerator": "TPU"
  },
  "cells": [
    {
      "cell_type": "markdown",
      "metadata": {
        "id": "view-in-github",
        "colab_type": "text"
      },
      "source": [
        "<a href=\"https://colab.research.google.com/github/Bitang-Melyen-Tanulok/Csip_Csip/blob/main/Saving_spectrograms_to_disk_final_faster.ipynb\" target=\"_parent\"><img src=\"https://colab.research.google.com/assets/colab-badge.svg\" alt=\"Open In Colab\"/></a>"
      ]
    },
    {
      "cell_type": "code",
      "execution_count": null,
      "metadata": {
        "id": "aG4UmdnSivKk",
        "outputId": "719bbdfc-b7e9-4205-9ab5-3e5fc03989e6",
        "colab": {
          "base_uri": "https://localhost:8080/"
        }
      },
      "outputs": [
        {
          "output_type": "stream",
          "name": "stdout",
          "text": [
            "Drive already mounted at /content/drive; to attempt to forcibly remount, call drive.mount(\"/content/drive\", force_remount=True).\n"
          ]
        }
      ],
      "source": [
        "import librosa\n",
        "import numpy as np\n",
        "import matplotlib.pyplot as plt\n",
        "from tqdm import tqdm\n",
        "import os\n",
        "from multiprocessing.pool import ThreadPool\n",
        "from PIL import Image\n",
        "from multiprocessing import Pool\n",
        "\n",
        "from google.colab import drive\n",
        "drive.mount('/content/drive')\n",
        "\n",
        "path = '/content/drive/MyDrive/DeepLearning'"
      ]
    },
    {
      "cell_type": "markdown",
      "source": [
        "Function for converting the audio's first 5 seconds to a spectrogram and saving it as an image"
      ],
      "metadata": {
        "id": "EaS9HKQaBWFR"
      }
    },
    {
      "cell_type": "code",
      "source": [
        "# Turns audio to spectrograms and saves them to the given folder\n",
        "def save_spectrogram_to_disk(path_to_audio, path_to_spectrogram_png, sample_duration_sec=5.0):\n",
        "  audio_data, _ = librosa.load(path_to_audio)\n",
        "  audio_rate = 32000 # given by the competition rules\n",
        "\n",
        "  sample_duration_frames = int(sample_duration_sec * audio_rate) # length of the samples in frames\n",
        "\n",
        "  n_fft = 2048 # [2024 2nd place]\n",
        "  hop_length = 512 # [2024 2nd place]\n",
        "  n_mels = 128 # [2024 2nd place]\n",
        "  # win_length is automatically equal to n_fft\n",
        "\n",
        "  # Pad audio with zeros if it's smaller than sample_duration_sec - original data is in the center\n",
        "  if len(audio_data) < sample_duration_frames:\n",
        "    padding_length = sample_duration_frames - len(audio_data)\n",
        "    pad_start = padding_length // 2\n",
        "    pad_end = padding_length - pad_start\n",
        "    audio_data = np.pad(audio_data, (pad_start, pad_end), mode='constant', constant_values=0)\n",
        "\n",
        "  # Cut first 5 seconds from audio_data\n",
        "  sample = audio_data[:sample_duration_frames]\n",
        "\n",
        "  # Generate mel spectrogram\n",
        "  S = librosa.feature.melspectrogram(\n",
        "      y=sample,\n",
        "      sr=audio_rate,\n",
        "      n_fft=n_fft,\n",
        "      hop_length=hop_length,\n",
        "      n_mels=n_mels,\n",
        "      fmin=40, # [2024 1st place]\n",
        "      fmax=16000 # Bird calls are usually high pitched, we don't want to remove those frequencies\n",
        "  )\n",
        "\n",
        "  # Convert to decibel scale\n",
        "  S_db = librosa.power_to_db(S, ref=np.max)\n",
        "\n",
        "  img_data = (255 * (S_db - S_db.min()) / (S_db.max() - S_db.min())).astype(np.uint8)\n",
        "\n",
        "  img = Image.fromarray(img_data)\n",
        "  img = img.transpose(Image.FLIP_TOP_BOTTOM)\n",
        "  img.save(path_to_spectrogram_png)"
      ],
      "metadata": {
        "id": "4-rpESXTjXWW"
      },
      "execution_count": null,
      "outputs": []
    },
    {
      "cell_type": "markdown",
      "source": [
        "Functions for parallel file and folder processing"
      ],
      "metadata": {
        "id": "Sv5peAqSEPzQ"
      }
    },
    {
      "cell_type": "code",
      "source": [
        "def process_file(args):\n",
        "  folder_path, file, spectrogram_folder_path = args\n",
        "  if not os.path.exists(spectrogram_folder_path + file.replace(\".ogg\", \".png\")):\n",
        "    save_spectrogram_to_disk(folder_path + file, spectrogram_folder_path + file.replace(\".ogg\", \".png\"))\n",
        "\n",
        "def process_folder(folder):\n",
        "    folder_path = path + '/train_audio/' + folder + '/'\n",
        "    spectrogram_folder_path = path + '/train_spectrograms/' + folder + '/'\n",
        "    os.makedirs(spectrogram_folder_path, exist_ok=True)\n",
        "    files = os.listdir(folder_path)\n",
        "    args = [(folder_path, file, spectrogram_folder_path) for file in files]\n",
        "    with Pool(processes=os.cpu_count()) as pool:\n",
        "        pool.map(process_file, args)"
      ],
      "metadata": {
        "id": "qwuYmwnjDGMh"
      },
      "execution_count": null,
      "outputs": []
    },
    {
      "cell_type": "markdown",
      "source": [
        "Starting the spectrogram generation"
      ],
      "metadata": {
        "id": "2-x50HJuEYCm"
      }
    },
    {
      "cell_type": "code",
      "source": [
        "folders = os.listdir(path+'/train_audio')\n",
        "\n",
        "with ThreadPool(processes=os.cpu_count()) as pool:\n",
        "    pool.map(process_folder, folders)"
      ],
      "metadata": {
        "id": "2rougCW3jfKj"
      },
      "execution_count": null,
      "outputs": []
    }
  ]
}