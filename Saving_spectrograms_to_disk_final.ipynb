{
  "nbformat": 4,
  "nbformat_minor": 0,
  "metadata": {
    "colab": {
      "provenance": [],
      "gpuType": "V28",
      "include_colab_link": true
    },
    "kernelspec": {
      "name": "python3",
      "display_name": "Python 3"
    },
    "language_info": {
      "name": "python"
    },
    "accelerator": "TPU"
  },
  "cells": [
    {
      "cell_type": "markdown",
      "metadata": {
        "id": "view-in-github",
        "colab_type": "text"
      },
      "source": [
        "<a href=\"https://colab.research.google.com/github/Bitang-Melyen-Tanulok/Csip_Csip/blob/main/Saving_spectrograms_to_disk_final.ipynb\" target=\"_parent\"><img src=\"https://colab.research.google.com/assets/colab-badge.svg\" alt=\"Open In Colab\"/></a>"
      ]
    },
    {
      "cell_type": "code",
      "execution_count": 2,
      "metadata": {
        "id": "aG4UmdnSivKk",
        "outputId": "e3d530c6-3791-46ad-90c3-7fa38bd7b2e3",
        "colab": {
          "base_uri": "https://localhost:8080/"
        }
      },
      "outputs": [
        {
          "output_type": "stream",
          "name": "stdout",
          "text": [
            "Mounted at /content/drive\n"
          ]
        }
      ],
      "source": [
        "import librosa\n",
        "import numpy as np\n",
        "import matplotlib.pyplot as plt\n",
        "from tqdm import tqdm\n",
        "import os\n",
        "\n",
        "from google.colab import drive\n",
        "drive.mount('/content/drive')\n",
        "\n",
        "path = '/content/drive/MyDrive/DeepLearning'"
      ]
    },
    {
      "cell_type": "code",
      "source": [
        "# Turns audio to spectrograms and saves them to the given folder\n",
        "def save_spectrogram_to_disk(path_to_audio, path_to_spectrogram_ogg, sample_duration_sec=5.0):\n",
        "  audio_data, _ = librosa.load(path_to_audio)\n",
        "  audio_rate = 32000 # given by the competition rules\n",
        "\n",
        "  sample_duration_frames = int(sample_duration_sec * audio_rate) # length of the samples in frames\n",
        "\n",
        "  n_fft = 2048 # [2024 2nd place]\n",
        "  hop_length = 512 # [2024 2nd place]\n",
        "  n_mels = 128 # [2024 2nd place]\n",
        "  # win_length is automatically equal to n_fft\n",
        "\n",
        "  # Pad audio with zeros if it's smaller than sample_duration_sec - original data is in the center\n",
        "  if len(audio_data) < sample_duration_frames:\n",
        "    padding_length = sample_duration_frames - len(audio_data)\n",
        "    pad_start = padding_length // 2\n",
        "    pad_end = padding_length - pad_start\n",
        "    audio_data = np.pad(audio_data, (pad_start, pad_end), mode='constant', constant_values=0)\n",
        "\n",
        "  # Cut first 5 seconds from audio_data\n",
        "  sample = audio_data[:sample_duration_frames]\n",
        "\n",
        "  # Generate mel spectrogram\n",
        "  S = librosa.feature.melspectrogram(\n",
        "      y=sample,\n",
        "      sr=audio_rate,\n",
        "      n_fft=n_fft,\n",
        "      hop_length=hop_length,\n",
        "      n_mels=n_mels,\n",
        "      fmin=40, # [2024 1st place]\n",
        "      fmax=16000 # Bird calls are usually high pitched, we don't want to remove those frequencies\n",
        "  )\n",
        "\n",
        "  # Convert to decibel scale\n",
        "  S_db = librosa.power_to_db(S, ref=np.max)\n",
        "\n",
        "  spectrogram_file_path = path_to_spectrogram_ogg.split('.')[0]+'.png'\n",
        "\n",
        "  # Save spectrogram in grayscale. This way, it's more likely to be compatible with other CNN models\n",
        "  img = librosa.display.specshow(S_db, sr=audio_rate, hop_length=hop_length, cmap='gray')\n",
        "\n",
        "  plt.axis('off')\n",
        "  plt.savefig(spectrogram_file_path, bbox_inches='tight', pad_inches=0)"
      ],
      "metadata": {
        "id": "4-rpESXTjXWW"
      },
      "execution_count": 3,
      "outputs": []
    },
    {
      "cell_type": "code",
      "source": [
        "folders = os.listdir(path+'/sample_train_audio')\n",
        "\n",
        "for j, folder in enumerate(folders):\n",
        "  print(\"current folder:\", folder)\n",
        "  folder_path = path+'/sample_train_audio/'+folder+'/'\n",
        "\n",
        "  spectrogram_folder_path = path+'/sample_train_spectrograms/'+folder+'/'\n",
        "  if not os.path.exists(spectrogram_folder_path):\n",
        "    os.makedirs(spectrogram_folder_path)\n",
        "\n",
        "  files = os.listdir(folder_path)\n",
        "\n",
        "  for i, file in enumerate(files):\n",
        "    if not os.path.exists(spectrogram_folder_path+file.replace(\".ogg\", \".png\")):\n",
        "      save_spectrogram_to_disk(folder_path+file, spectrogram_folder_path+file)"
      ],
      "metadata": {
        "id": "2rougCW3jfKj",
        "outputId": "6643b63d-a7ec-4058-8dfa-198884184e31",
        "colab": {
          "base_uri": "https://localhost:8080/"
        }
      },
      "execution_count": 7,
      "outputs": [
        {
          "output_type": "stream",
          "name": "stdout",
          "text": [
            "current folder: blrwar1\n",
            "current folder: categr\n",
            "current folder: forwag1\n",
            "current folder: grenig1\n",
            "current folder: jerbus2\n",
            "current folder: insowl1\n",
            "current folder: junmyn1\n",
            "current folder: lewduc1\n",
            "current folder: plaflo1\n",
            "current folder: pursun4\n",
            "current folder: putbab1\n",
            "current folder: redspu1\n",
            "current folder: revbul\n",
            "current folder: rewlap1\n",
            "current folder: rufbab3\n",
            "current folder: rutfly6\n",
            "current folder: sqtbul1\n",
            "current folder: vefnut1\n",
            "current folder: barswa\n",
            "current folder: rerswa1\n"
          ]
        }
      ]
    }
  ]
}